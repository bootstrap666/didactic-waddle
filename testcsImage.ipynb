{
 "cells": [
  {
   "cell_type": "code",
   "execution_count": 1,
   "id": "ad7fe33c-2263-4661-803a-a01888208fe7",
   "metadata": {},
   "outputs": [],
   "source": [
    "import numpy as np\n",
    "import matplotlib.pyplot as plt\n",
    "from csimage import csImagecodec\n",
    "from PIL import Image, ImageOps"
   ]
  },
  {
   "cell_type": "code",
   "execution_count": 2,
   "id": "caf22c4c-003e-4ac8-9f6f-2ef618e36ede",
   "metadata": {},
   "outputs": [
    {
     "name": "stdout",
     "output_type": "stream",
     "text": [
      "File ‘Lenna_(test_image).png’ already there; not retrieving.\n",
      "\n"
     ]
    },
    {
     "name": "stderr",
     "output_type": "stream",
     "text": [
      "/opt/anaconda3/lib/python3.11/pty.py:89: RuntimeWarning: os.fork() was called. os.fork() is incompatible with multithreaded code, and JAX is multithreaded, so this will likely lead to a deadlock.\n",
      "  pid, fd = os.forkpty()\n"
     ]
    }
   ],
   "source": [
    "!wget -nc https://upload.wikimedia.org/wikipedia/en/7/7d/Lenna_%28test_image%29.png"
   ]
  },
  {
   "cell_type": "code",
   "execution_count": 3,
   "id": "4a544bbd-fcb2-49a2-8561-5e24a102928c",
   "metadata": {},
   "outputs": [
    {
     "data": {
      "image/jpeg": "[encoded data removed]",
      "image/png": "[encoded data removed]",
      "text/plain": [
       "<PIL.Image.Image image mode=L size=64x64>"
      ]
     },
     "metadata": {},
     "output_type": "display_data"
    }
   ],
   "source": [
    "csimage = csImagecodec (wavelet_family = 'haar', \n",
    "                        save_video=False, \n",
    "                        weighthistory=True)\n",
    "\n",
    "img = Image.open('Lenna_(test_image).png')\n",
    "img = ImageOps.grayscale(img)\n",
    "newsize = 64,64\n",
    "\n",
    "img = img.resize(newsize, Image.LANCZOS)\n",
    "display(img)"
   ]
  },
  {
   "cell_type": "code",
   "execution_count": 5,
   "id": "7745d61b-a3cf-4a08-b74c-675ccd9e0327",
   "metadata": {},
   "outputs": [
    {
     "name": "stderr",
     "output_type": "stream",
     "text": [
      "2025-08-08 19:45:15.307704: W external/xla/xla/service/gpu/autotuning/conv_algorithm_picker.cc:848] None of the algorithms provided by cuDNN heuristics worked; trying fallback algorithms.\n",
      "2025-08-08 19:45:15.307721: W external/xla/xla/service/gpu/autotuning/conv_algorithm_picker.cc:851] Conv: %cudnn-conv = (f32[64,1,34]{2,1,0}, u8[0]{0}) custom-call(%bitcast, %broadcast.118), window={size=2 stride=2 pad=1_1}, dim_labels=bf0_oi0->bf0, custom_call_target=\"__cudnn$convForward\", metadata={op_name=\"jit(times)/jit(wavedec2)/jit(dwt_axis_)/vmap(jit(dwt_))/conv_general_dilated\" source_file=\"/home/mhmaruo/.local/lib/python3.11/site-packages/cr/wavelets/_src/transform.py\" source_line=86}, backend_config={\"operation_queue_id\":\"0\",\"wait_on_operation_queues\":[],\"cudnn_conv_backend_config\":{\"activation_mode\":\"kNone\",\"conv_result_scale\":1,\"side_input_scale\":0,\"leakyrelu_alpha\":0},\"force_earliest_schedule\":false,\"reification_cost\":[]}\n"
     ]
    },
    {
     "ename": "XlaRuntimeError",
     "evalue": "UNKNOWN: Failed to determine best cudnn convolution algorithm for:\n%cudnn-conv = (f32[64,1,34]{2,1,0}, u8[0]{0}) custom-call(%bitcast, %broadcast.118), window={size=2 stride=2 pad=1_1}, dim_labels=bf0_oi0->bf0, custom_call_target=\"__cudnn$convForward\", metadata={op_name=\"jit(times)/jit(wavedec2)/jit(dwt_axis_)/vmap(jit(dwt_))/conv_general_dilated\" source_file=\"/home/mhmaruo/.local/lib/python3.11/site-packages/cr/wavelets/_src/transform.py\" source_line=86}, backend_config={\"operation_queue_id\":\"0\",\"wait_on_operation_queues\":[],\"cudnn_conv_backend_config\":{\"activation_mode\":\"kNone\",\"conv_result_scale\":1,\"side_input_scale\":0,\"leakyrelu_alpha\":0},\"force_earliest_schedule\":false,\"reification_cost\":[]}\n\nOriginal error: INTERNAL: All algorithms tried for (f32[64,1,34]{2,1,0}, u8[0]{0}) custom-call(f32[64,1,66]{2,1,0}, f32[1,1,2]{2,1,0}), window={size=2 stride=2 pad=1_1}, dim_labels=bf0_oi0->bf0, custom_call_target=\"__cudnn$convForward\", backend_config={\"cudnn_conv_backend_config\":{\"activation_mode\":\"kNone\",\"conv_result_scale\":1,\"leakyrelu_alpha\":0,\"side_input_scale\":0},\"force_earliest_schedule\":false,\"operation_queue_id\":\"0\",\"reification_cost\":[],\"wait_on_operation_queues\":[]} failed. Falling back to default algorithm.  Per-algorithm errors:\n  Profiling failure on cuDNN engine eng0{}: UNKNOWN: CUDNN_STATUS_EXECUTION_FAILED\nin external/xla/xla/stream_executor/cuda/cuda_dnn.cc(5308): 'status'\n  Profiling failure on cuDNN engine eng28{k2=3,k3=0}: UNKNOWN: CUDNN_STATUS_EXECUTION_FAILED\nin external/xla/xla/stream_executor/cuda/cuda_dnn.cc(5308): 'status'\n  Profiling failure on cuDNN engine eng28{k2=0,k3=0}: UNKNOWN: CUDNN_STATUS_EXECUTION_FAILED\nin external/xla/xla/stream_executor/cuda/cuda_dnn.cc(5308): 'status'\n  Profiling failure on cuDNN engine eng28{k2=1,k3=0}: UNKNOWN: CUDNN_STATUS_EXECUTION_FAILED\nin external/xla/xla/stream_executor/cuda/cuda_dnn.cc(5308): 'status'\n  Profiling failure on cuDNN engine eng1{k2=4,k3=0}: UNKNOWN: CUDNN_STATUS_EXECUTION_FAILED\nin external/xla/xla/stream_executor/cuda/cuda_dnn.cc(5308): 'status'\n  Profiling failure on cuDNN engine eng1{k2=0,k3=0}: UNKNOWN: CUDNN_STATUS_EXECUTION_FAILED\nin external/xla/xla/stream_executor/cuda/cuda_dnn.cc(5308): 'status'\n  Profiling failure on cuDNN engine eng1{k2=1,k3=0}: UNKNOWN: CUDNN_STATUS_EXECUTION_FAILED\nin external/xla/xla/stream_executor/cuda/cuda_dnn.cc(5308): 'status'\n  Profiling failure on cuDNN engine eng2{k2=4,k3=0}: UNKNOWN: CUDNN_STATUS_EXECUTION_FAILED\nin external/xla/xla/stream_executor/cuda/cuda_dnn.cc(5308): 'status'\n  Profiling failure on cuDNN engine eng1{}: UNKNOWN: CUDNN_STATUS_EXECUTION_FAILED\nin external/xla/xla/stream_executor/cuda/cuda_dnn.cc(5308): 'status'\n  Profiling failure on cuDNN engine eng28{}: UNKNOWN: CUDNN_STATUS_EXECUTION_FAILED\nin external/xla/xla/stream_executor/cuda/cuda_dnn.cc(5308): 'status'\n  Profiling failure on cuDNN engine eng0{}: UNKNOWN: CUDNN_STATUS_EXECUTION_FAILED\nin external/xla/xla/stream_executor/cuda/cuda_dnn.cc(5308): 'status'\n  Profiling failure on cuDNN engine eng2{k2=1,k3=0}: UNKNOWN: CUDNN_STATUS_EXECUTION_FAILED\nin external/xla/xla/stream_executor/cuda/cuda_dnn.cc(5308): 'status'\n\nTo ignore this failure and try to use a fallback algorithm (which may have suboptimal performance), use XLA_FLAGS=--xla_gpu_strict_conv_algorithm_picker=false.  Please also file a bug for the root cause of failing autotuning.",
     "output_type": "error",
     "traceback": [
      "\u001b[0;31m---------------------------------------------------------------------------\u001b[0m",
      "\u001b[0;31mXlaRuntimeError\u001b[0m                           Traceback (most recent call last)",
      "Cell \u001b[0;32mIn[5], line 1\u001b[0m\n\u001b[0;32m----> 1\u001b[0m encoded_image \u001b[38;5;241m=\u001b[39m \u001b[43mcsimage\u001b[49m\u001b[38;5;241;43m.\u001b[39;49m\u001b[43mencode_image\u001b[49m\u001b[43m(\u001b[49m\u001b[43mimg\u001b[49m\u001b[43m,\u001b[49m\u001b[43m \u001b[49m\u001b[38;5;241;43m0.7\u001b[39;49m\u001b[43m,\u001b[49m\u001b[43m \u001b[49m\u001b[43mwavelet_level\u001b[49m\u001b[38;5;241;43m=\u001b[39;49m\u001b[38;5;241;43m6\u001b[39;49m\u001b[43m)\u001b[49m\n",
      "File \u001b[0;32m~/python/didactic-waddle/csimage.py:41\u001b[0m, in \u001b[0;36mcsImagecodec.encode_image\u001b[0;34m(self, img, compression_pct, wavelet_level)\u001b[0m\n\u001b[1;32m     39\u001b[0m DWT2_op \u001b[38;5;241m=\u001b[39m lop\u001b[38;5;241m.\u001b[39mdwt2D(\u001b[38;5;28mself\u001b[39m\u001b[38;5;241m.\u001b[39m__shape, wavelet\u001b[38;5;241m=\u001b[39m\u001b[38;5;28mself\u001b[39m\u001b[38;5;241m.\u001b[39m__wavelet_family, level\u001b[38;5;241m=\u001b[39mwavelet_level)\n\u001b[1;32m     40\u001b[0m DWT2_op \u001b[38;5;241m=\u001b[39m lop\u001b[38;5;241m.\u001b[39mjit(DWT2_op)\n\u001b[0;32m---> 41\u001b[0m coeffs \u001b[38;5;241m=\u001b[39m \u001b[43mDWT2_op\u001b[49m\u001b[38;5;241;43m.\u001b[39;49m\u001b[43mtimes\u001b[49m\u001b[43m(\u001b[49m\u001b[43mimg_array\u001b[49m\u001b[43m)\u001b[49m\n\u001b[1;32m     42\u001b[0m \u001b[38;5;28mself\u001b[39m\u001b[38;5;241m.\u001b[39m__xw \u001b[38;5;241m=\u001b[39m np\u001b[38;5;241m.\u001b[39mreshape(coeffs, np\u001b[38;5;241m.\u001b[39mprod(shape))\n\u001b[1;32m     44\u001b[0m \u001b[38;5;66;03m#self._DWT_op = lop.dwt(len(x), wavelet=self.__wavelet_family, level=8)\u001b[39;00m\n\u001b[1;32m     45\u001b[0m \u001b[38;5;66;03m#self.__xw = self._DWT_op.times(x)\u001b[39;00m\n",
      "    \u001b[0;31m[... skipping hidden 11 frame]\u001b[0m\n",
      "File \u001b[0;32m~/.local/lib/python3.11/site-packages/jax/_src/compiler.py:377\u001b[0m, in \u001b[0;36mbackend_compile_and_load\u001b[0;34m(backend, module, executable_devices, options, host_callbacks)\u001b[0m\n\u001b[1;32m    368\u001b[0m       \u001b[38;5;28;01mreturn\u001b[39;00m backend\u001b[38;5;241m.\u001b[39mcompile_and_load(\n\u001b[1;32m    369\u001b[0m           built_c,\n\u001b[1;32m    370\u001b[0m           executable_devices\u001b[38;5;241m=\u001b[39mexecutable_devices,\n\u001b[1;32m    371\u001b[0m           compile_options\u001b[38;5;241m=\u001b[39moptions,\n\u001b[1;32m    372\u001b[0m           host_callbacks\u001b[38;5;241m=\u001b[39mhost_callbacks,\n\u001b[1;32m    373\u001b[0m       )\n\u001b[1;32m    374\u001b[0m     \u001b[38;5;66;03m# Some backends don't have `host_callbacks` option yet\u001b[39;00m\n\u001b[1;32m    375\u001b[0m     \u001b[38;5;66;03m# TODO(sharadmv): remove this fallback when all backends allow `compile`\u001b[39;00m\n\u001b[1;32m    376\u001b[0m     \u001b[38;5;66;03m# to take in `host_callbacks`\u001b[39;00m\n\u001b[0;32m--> 377\u001b[0m     \u001b[38;5;28;01mreturn\u001b[39;00m \u001b[43mbackend\u001b[49m\u001b[38;5;241;43m.\u001b[39;49m\u001b[43mcompile_and_load\u001b[49m\u001b[43m(\u001b[49m\n\u001b[1;32m    378\u001b[0m \u001b[43m        \u001b[49m\u001b[43mbuilt_c\u001b[49m\u001b[43m,\u001b[49m\n\u001b[1;32m    379\u001b[0m \u001b[43m        \u001b[49m\u001b[43mexecutable_devices\u001b[49m\u001b[38;5;241;43m=\u001b[39;49m\u001b[43mexecutable_devices\u001b[49m\u001b[43m,\u001b[49m\n\u001b[1;32m    380\u001b[0m \u001b[43m        \u001b[49m\u001b[43mcompile_options\u001b[49m\u001b[38;5;241;43m=\u001b[39;49m\u001b[43moptions\u001b[49m\u001b[43m,\u001b[49m\n\u001b[1;32m    381\u001b[0m \u001b[43m    \u001b[49m\u001b[43m)\u001b[49m\n\u001b[1;32m    382\u001b[0m \u001b[38;5;28;01mexcept\u001b[39;00m xc\u001b[38;5;241m.\u001b[39mXlaRuntimeError \u001b[38;5;28;01mas\u001b[39;00m e:\n\u001b[1;32m    383\u001b[0m   \u001b[38;5;28;01mfor\u001b[39;00m error_handler \u001b[38;5;129;01min\u001b[39;00m _XLA_RUNTIME_ERROR_HANDLERS:\n",
      "\u001b[0;31mXlaRuntimeError\u001b[0m: UNKNOWN: Failed to determine best cudnn convolution algorithm for:\n%cudnn-conv = (f32[64,1,34]{2,1,0}, u8[0]{0}) custom-call(%bitcast, %broadcast.118), window={size=2 stride=2 pad=1_1}, dim_labels=bf0_oi0->bf0, custom_call_target=\"__cudnn$convForward\", metadata={op_name=\"jit(times)/jit(wavedec2)/jit(dwt_axis_)/vmap(jit(dwt_))/conv_general_dilated\" source_file=\"/home/mhmaruo/.local/lib/python3.11/site-packages/cr/wavelets/_src/transform.py\" source_line=86}, backend_config={\"operation_queue_id\":\"0\",\"wait_on_operation_queues\":[],\"cudnn_conv_backend_config\":{\"activation_mode\":\"kNone\",\"conv_result_scale\":1,\"side_input_scale\":0,\"leakyrelu_alpha\":0},\"force_earliest_schedule\":false,\"reification_cost\":[]}\n\nOriginal error: INTERNAL: All algorithms tried for (f32[64,1,34]{2,1,0}, u8[0]{0}) custom-call(f32[64,1,66]{2,1,0}, f32[1,1,2]{2,1,0}), window={size=2 stride=2 pad=1_1}, dim_labels=bf0_oi0->bf0, custom_call_target=\"__cudnn$convForward\", backend_config={\"cudnn_conv_backend_config\":{\"activation_mode\":\"kNone\",\"conv_result_scale\":1,\"leakyrelu_alpha\":0,\"side_input_scale\":0},\"force_earliest_schedule\":false,\"operation_queue_id\":\"0\",\"reification_cost\":[],\"wait_on_operation_queues\":[]} failed. Falling back to default algorithm.  Per-algorithm errors:\n  Profiling failure on cuDNN engine eng0{}: UNKNOWN: CUDNN_STATUS_EXECUTION_FAILED\nin external/xla/xla/stream_executor/cuda/cuda_dnn.cc(5308): 'status'\n  Profiling failure on cuDNN engine eng28{k2=3,k3=0}: UNKNOWN: CUDNN_STATUS_EXECUTION_FAILED\nin external/xla/xla/stream_executor/cuda/cuda_dnn.cc(5308): 'status'\n  Profiling failure on cuDNN engine eng28{k2=0,k3=0}: UNKNOWN: CUDNN_STATUS_EXECUTION_FAILED\nin external/xla/xla/stream_executor/cuda/cuda_dnn.cc(5308): 'status'\n  Profiling failure on cuDNN engine eng28{k2=1,k3=0}: UNKNOWN: CUDNN_STATUS_EXECUTION_FAILED\nin external/xla/xla/stream_executor/cuda/cuda_dnn.cc(5308): 'status'\n  Profiling failure on cuDNN engine eng1{k2=4,k3=0}: UNKNOWN: CUDNN_STATUS_EXECUTION_FAILED\nin external/xla/xla/stream_executor/cuda/cuda_dnn.cc(5308): 'status'\n  Profiling failure on cuDNN engine eng1{k2=0,k3=0}: UNKNOWN: CUDNN_STATUS_EXECUTION_FAILED\nin external/xla/xla/stream_executor/cuda/cuda_dnn.cc(5308): 'status'\n  Profiling failure on cuDNN engine eng1{k2=1,k3=0}: UNKNOWN: CUDNN_STATUS_EXECUTION_FAILED\nin external/xla/xla/stream_executor/cuda/cuda_dnn.cc(5308): 'status'\n  Profiling failure on cuDNN engine eng2{k2=4,k3=0}: UNKNOWN: CUDNN_STATUS_EXECUTION_FAILED\nin external/xla/xla/stream_executor/cuda/cuda_dnn.cc(5308): 'status'\n  Profiling failure on cuDNN engine eng1{}: UNKNOWN: CUDNN_STATUS_EXECUTION_FAILED\nin external/xla/xla/stream_executor/cuda/cuda_dnn.cc(5308): 'status'\n  Profiling failure on cuDNN engine eng28{}: UNKNOWN: CUDNN_STATUS_EXECUTION_FAILED\nin external/xla/xla/stream_executor/cuda/cuda_dnn.cc(5308): 'status'\n  Profiling failure on cuDNN engine eng0{}: UNKNOWN: CUDNN_STATUS_EXECUTION_FAILED\nin external/xla/xla/stream_executor/cuda/cuda_dnn.cc(5308): 'status'\n  Profiling failure on cuDNN engine eng2{k2=1,k3=0}: UNKNOWN: CUDNN_STATUS_EXECUTION_FAILED\nin external/xla/xla/stream_executor/cuda/cuda_dnn.cc(5308): 'status'\n\nTo ignore this failure and try to use a fallback algorithm (which may have suboptimal performance), use XLA_FLAGS=--xla_gpu_strict_conv_algorithm_picker=false.  Please also file a bug for the root cause of failing autotuning."
     ]
    }
   ],
   "source": [
    "encoded_image = csimage.encode_image(img, 0.7, wavelet_level=6)"
   ]
  },
  {
   "cell_type": "code",
   "execution_count": null,
   "id": "d1bb2afd-16e4-47ff-ac52-55a7fb842a20",
   "metadata": {},
   "outputs": [],
   "source": []
  }
 ],
 "metadata": {
  "kernelspec": {
   "display_name": "Python 3 (ipykernel)",
   "language": "python",
   "name": "python3"
  },
  "language_info": {
   "codemirror_mode": {
    "name": "ipython",
    "version": 3
   },
   "file_extension": ".py",
   "mimetype": "text/x-python",
   "name": "python",
   "nbconvert_exporter": "python",
   "pygments_lexer": "ipython3",
   "version": "3.11.9"
  }
 },
 "nbformat": 4,
 "nbformat_minor": 5
}
